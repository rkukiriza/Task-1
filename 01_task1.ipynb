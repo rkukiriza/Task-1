{
 "cells": [
  {
   "cell_type": "markdown",
   "id": "1b4bf666",
   "metadata": {},
   "source": [
    "# Python problems on data structure\n",
    "### Problem 1: Crypto currency Token Data"
   ]
  },
  {
   "cell_type": "markdown",
   "id": "14f4c624",
   "metadata": {},
   "source": [
    "```python\n",
    "crypto_tokens = [\n",
    "    {\n",
    "        \"name\": \"Token A\",\n",
    "        \"symbol\": \"TKA\",\n",
    "        \"blockchain\": \"Ethereum\",\n",
    "        \"current_price_usd\": 100.0,\n",
    "        \"transaction_history\": [\n",
    "            {\n",
    "                \"date\": \"2024-01-10\",\n",
    "                \"prices\": {\n",
    "                    \"open\": 98.0,\n",
    "                    \"close\": 100.0,\n",
    "                    \"high\": 101.0,\n",
    "                    \"low\": 97.0\n",
    "                },\n",
    "                \"volume\": 12000\n",
    "            },\n",
    "            {\n",
    "                \"date\": \"2024-01-09\",\n",
    "                \"prices\": {\n",
    "                    \"open\": 97.0,\n",
    "                    \"close\": 98.0,\n",
    "                    \"high\": 99.0,\n",
    "                    \"low\": 96.0\n",
    "                },\n",
    "                \"volume\": 15000\n",
    "            }\n",
    "        ],\n",
    "        \"supported_chains\": [\"Ethereum\", \"Polygon\"]\n",
    "    },\n",
    "    {\n",
    "        \"name\": \"Token B\",\n",
    "        \"symbol\": \"TKB\",\n",
    "        \"blockchain\": \"Binance Smart Chain\",\n",
    "        \"current_price_usd\": 200.0,\n",
    "        \"transaction_history\": [\n",
    "            {\n",
    "                \"date\": \"2024-01-10\",\n",
    "                \"prices\": {\n",
    "                    \"open\": 198.0,\n",
    "                    \"close\": 200.0,\n",
    "                    \"high\": 202.0,\n",
    "                    \"low\": 196.0\n",
    "                },\n",
    "                \"volume\": 18000\n",
    "            },\n",
    "            {\n",
    "                \"date\": \"2024-01-09\",\n",
    "                \"prices\": {\n",
    "                    \"open\": 196.0,\n",
    "                    \"close\": 198.0,\n",
    "                    \"high\": 199.0,\n",
    "                    \"low\": 195.0\n",
    "                },\n",
    "                \"volume\": 17000\n",
    "            }\n",
    "        ],\n",
    "        \"supported_chains\": [\"Binance Smart Chain\", \"Avalanche\"]\n",
    "    },\n",
    "    {\n",
    "        \"name\": \"Token C\",\n",
    "        \"symbol\": \"TKC\",\n",
    "        \"blockchain\": \"Solana\",\n",
    "        \"current_price_usd\": 300.0,\n",
    "        \"transaction_history\": [\n",
    "            {\n",
    "                \"date\": \"2024-01-10\",\n",
    "                \"prices\": {\n",
    "                    \"open\": 295.0,\n",
    "                    \"close\": 300.0,\n",
    "                    \"high\": 302.0,\n",
    "                    \"low\": 294.0\n",
    "                },\n",
    "                \"volume\": 22000\n",
    "            },\n",
    "            {\n",
    "                \"date\": \"2024-01-09\",\n",
    "                \"prices\": {\n",
    "                    \"open\": 294.0,\n",
    "                    \"close\": 295.0,\n",
    "                    \"high\": 296.0,\n",
    "                    \"low\": 293.0\n",
    "                },\n",
    "                \"volume\": 21000\n",
    "            }\n",
    "        ],\n",
    "        \"supported_chains\": [\"Solana\", \"Fantom\"]\n",
    "    }\n",
    "]\n",
    "```\n",
    "Q1: Read Data  \n",
    "Task: Display the current price of \"Token B\".\n",
    "\n",
    "Q2: Write Data  \n",
    "Task: Add a new token \"Token D\" with some initial data to the `crypto_tokens` list.\n",
    "\n",
    "Q3: Update Data  \n",
    "Task: Update the current price of \"Token C\" to 310.0.\n",
    "\n",
    "Q4: Delete Data  \n",
    "Task: Remove the transaction history for \"Token A\" on \"2024-01-09\".\n",
    "\n",
    "Q5: Read Nested Data  \n",
    "Task: Display the closing price of \"Token B\" on \"2024-01-10\".\n",
    "\n",
    "Q6: Update Nested Data  \n",
    "Task: Change the opening price of \"Token A\" on \"2024-01-10\" to 99.0.\n",
    "\n",
    "Q7: Add Nested Data  \n",
    "Task: Add a new transaction history entry for \"Token C\" on \"2024-01-11\".\n",
    "\n",
    "Q8: Delete an Item from a List Inside a Dictionary  \n",
    "Task: Remove \"Avalanche\" from the supported chains of \"Token B\".\n"
   ]
  },
  {
   "cell_type": "code",
   "execution_count": 21,
   "id": "67235e45",
   "metadata": {},
   "outputs": [
    {
     "name": "stdout",
     "output_type": "stream",
     "text": [
      "The current price of token B is $200.0\n"
     ]
    }
   ],
   "source": [
    "#Token B current_price_usd=200.0\n",
    "price_tokenB= [\"$200.0\"]\n",
    "print(f\"The current price of token B is ${200.0}\")\n"
   ]
  },
  {
   "cell_type": "markdown",
   "id": "1552956f",
   "metadata": {},
   "source": []
  },
  {
   "cell_type": "code",
   "execution_count": 22,
   "id": "df3c12fa",
   "metadata": {},
   "outputs": [],
   "source": [
    "#Add a new token\"D\" with some initial data from the crypto tokens list\n",
    "Crpto_tokens=[\n",
    "    { \"name\" : \"Token D\",\n",
    "      \"symbol\" : \"DAI\",\n",
    "      \"blockchain\" : \"Ethereum\",\n",
    "      \"current_price_usd\" : 1.00,\n",
    "      \"transaction_history\" : [\n",
    "          { \"date\" : \"2025-07-12\",\n",
    "            \"prices\" : {\n",
    "                \"open\" : 0.9998,\n",
    "                \"close\" : 1.00,\n",
    "                \"high\" : 1.02,\n",
    "                \"low\" : 0.8990\n",
    "            },\n",
    "            \"volume\" : 14000\n",
    "          },\n",
    "          {\n",
    "              \"date\" : \"2025-07-11\",\n",
    "              \"prices\" : {\n",
    "                  \"open\" : 99.0,\n",
    "                  \"close\" : 98.0,\n",
    "                  \"high\" : 99.0,\n",
    "                  \"low\" : 98.0\n",
    "              },\n",
    "              \"volume\" : 17000\n",
    "          },\n",
    "      ],\n",
    "      \"supported chains\" : [\"Ethereum\" , \"Arbitrum\"]\n",
    "    },\n",
    "]"
   ]
  },
  {
   "cell_type": "code",
   "execution_count": 34,
   "id": "11fdc194",
   "metadata": {},
   "outputs": [
    {
     "name": "stdout",
     "output_type": "stream",
     "text": [
      "{'name': 'Token C', 'price_usd': 310.0}\n"
     ]
    }
   ],
   "source": [
    "# Update the current price of \"Token C\" to 310.0\n",
    "tokens={\n",
    "    \"tokenA\" : {\"name\" : \"Token A\" , \"price_usd\" : 100.0},\n",
    "    \"tokenB\" : {\"name\" : \"Token B\" , \"price_usd\" : 200},\n",
    "    \"tokenC\" : {\"name\" : \"Token C\" , \"price_usd\" : 300.0}\n",
    "}\n",
    "# now update the price of \"Token C\"\n",
    "tokens[\"tokenC\"][\"price_usd\"]=310.0\n",
    "print(tokens[\"tokenC\"])"
   ]
  },
  {
   "cell_type": "code",
   "execution_count": 59,
   "id": "1db0ba1d",
   "metadata": {},
   "outputs": [
    {
     "name": "stdout",
     "output_type": "stream",
     "text": [
      "[{'date': '2024-01-10', 'prices': {'open': 98.0, 'close': 100.0, 'high': 101.0, 'low': 97.0}}]\n"
     ]
    }
   ],
   "source": [
    "# Remove the transaction history for \"Token A\" on \"2024-01-09\"\n",
    "Crpto_tokens=[\n",
    "    { \"name\" : \"Token A\",\n",
    "      \"symbol\" : \"TKA\",\n",
    "      \"blockchain\" : \"Ethereum\",\n",
    "      \"current_price_usd\" : 100.0,\n",
    "      \"transaction_history\" : [\n",
    "          { \"date\" : \"2024-01-10\",\n",
    "            \"prices\" : {\n",
    "                \"open\" : 98.0,\n",
    "                \"close\" : 100.0,\n",
    "                \"high\" : 101.0,\n",
    "                \"low\" : 97.0\n",
    "            },\n",
    "            \"volume\" : 12000\n",
    "          },\n",
    "          {\n",
    "              \"date\" : \"2024-01-09\",\n",
    "              \"prices\" : {\n",
    "                  \"open\" : 97.0,\n",
    "                  \"close\" : 98.0,\n",
    "                  \"high\" : 99.0,\n",
    "                  \"low\" : 96.0\n",
    "              },\n",
    "              \"volume\" : 15000\n",
    "          },\n",
    "      ],\n",
    "      \"supported chains\" : [\"Ethereum\" , \"Polygon\"]\n",
    "    },\n",
    "]\n",
    "\n",
    "TokenA_Transaction_history=[\n",
    "{\"date\" : \"2024-01-10\",\n",
    "                      \n",
    "\"prices\" : {\"open\" : 98.0, \"close\" : 100.0, \"high\" : 101.0, \"low\" : 97.0}\n",
    "},\n",
    "\n",
    "{\"date\" : \"2024-01-09\",\n",
    " \n",
    " \"prices\" : {\"open\" : 97.0, \"close\" : 98.0, \"high\" : 99.0, \"low\" : 96.0 }\n",
    " }\n",
    "]\n",
    " #Remove entry with date \"2024-01-09\" \n",
    "\n",
    "TokenA_Transaction_history=[entry for entry in TokenA_Transaction_history if entry[\"date\"] != \"2024-01-09\"]\n",
    "print(TokenA_Transaction_history)\n",
    "\n",
    "\n"
   ]
  },
  {
   "cell_type": "code",
   "execution_count": 76,
   "id": "b336b0e1",
   "metadata": {},
   "outputs": [
    {
     "name": "stdout",
     "output_type": "stream",
     "text": [
      "200.0\n"
     ]
    }
   ],
   "source": [
    "#Diplay the closing price of \"Token B\" on \"2024-01-10\"\n",
    "TokenB= {\n",
    "    \"date\" : \"2024-01-10\",\n",
    "    \"prices\" : {\"open\" : 198.0, \"close\" : 200.0, \"high\" : 202.0, \"low\" : 196.0 }\n",
    "}\n",
    "\n",
    "# closing price\n",
    "print(TokenB[\"prices\"][\"close\"])"
   ]
  },
  {
   "cell_type": "code",
   "execution_count": 71,
   "id": "e2b02d14",
   "metadata": {},
   "outputs": [
    {
     "name": "stdout",
     "output_type": "stream",
     "text": [
      "{'date': '2024-01-10', 'prices': {'open': 99.0, 'close': 100.0, 'high': 101.0, 'low': 97.0}}\n"
     ]
    }
   ],
   "source": [
    "# change the opening price of \"Token A\" on \"2024-01-10\" to 99.0 #update\n",
    "tokenA= {\n",
    "    \"date\" : \"2024-01-10\",\n",
    "    \"prices\" : {\"open\" : 98.0, \"close\" : 100.0, \"high\" : 101.0, \"low\" : 97.0}\n",
    "}\n",
    "\n",
    "#update opening price to 99.0\n",
    "tokenA[\"prices\"] [\"open\"]= 99.0\n",
    "print(tokenA)"
   ]
  },
  {
   "cell_type": "code",
   "execution_count": 8,
   "id": "e7c4b183",
   "metadata": {},
   "outputs": [],
   "source": [
    "#Add a new transaction history entry for \"Token C\" on 2024-01-11\n",
    "Crypto_tokens= [\n",
    "    {\n",
    "        \"name\" : \"Token C\",\n",
    "        \"symbol\" : \"TKC\",\n",
    "        \"blockchain\" : \"Solana\",\n",
    "        \"current_price_usd\" : 304.0,\n",
    "        \"transaction_history\" :[\n",
    "            {\n",
    "                \"date\" : \"2024-01-11\",\n",
    "                \"prices\" : {\n",
    "                    \"open\" : 300.0,\n",
    "                    \"close\" : 304.0,\n",
    "                    \"high\" : 303.0,\n",
    "                    \"low\" : 297.0\n",
    "                },\n",
    "                \"volume\" : 24000\n",
    "            },\n",
    "            {\n",
    "                \"date\" : \"2024-01-10\",\n",
    "                \"prices\" : {\n",
    "                    \"open\" : 295.0,\n",
    "                    \"close\" : 300.0,\n",
    "                    \"high\" : 302.0,\n",
    "                    \"low\" : 294.0\n",
    "                },\n",
    "                \"volume\" : 22000\n",
    "            },\n",
    "            {\n",
    "                \"date\" : \"2024-01-09\",\n",
    "                \"prices\" : {\n",
    "                    \"open\" : 294.0,\n",
    "                    \"close\" : 295.0,\n",
    "                    \"high\" : 296.0,\n",
    "                    \"low\" : 293.0\n",
    "                },\n",
    "                \"volume\" : 21000\n",
    "            },\n",
    "        ],\n",
    "        \"supported_chains\" : [\"Solana\", \"Fantom\"]\n",
    "    },\n",
    "]\n",
    "\n"
   ]
  },
  {
   "cell_type": "code",
   "execution_count": null,
   "id": "99ecb917",
   "metadata": {},
   "outputs": [
    {
     "name": "stdout",
     "output_type": "stream",
     "text": [
      "['Binance smart chain']\n"
     ]
    }
   ],
   "source": [
    "# Remove \"Avalanche\" from the supported chains of \"token B\"\n",
    "supported_chains=[\"Binance smart chain\", \"Avalanche\"]\n",
    "supported_chains.remove(\"Avalanche\")\n",
    "print(supported_chains)"
   ]
  }
 ],
 "metadata": {
  "kernelspec": {
   "display_name": "PythonT",
   "language": "python",
   "name": "python3"
  },
  "language_info": {
   "codemirror_mode": {
    "name": "ipython",
    "version": 3
   },
   "file_extension": ".py",
   "mimetype": "text/x-python",
   "name": "python",
   "nbconvert_exporter": "python",
   "pygments_lexer": "ipython3",
   "version": "3.10.10"
  }
 },
 "nbformat": 4,
 "nbformat_minor": 5
}
